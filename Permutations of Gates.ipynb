{
 "cells": [
  {
   "cell_type": "code",
   "execution_count": null,
   "metadata": {},
   "outputs": [],
   "source": [
    "import numpy as np\n",
    "from qiskit import QuantumCircuit, ClassicalRegister, QuantumRegister, execute\n",
    "import random\n",
    "import tkinter as tk\n",
    "from tkinter import *\n",
    "import itertools\n",
    "from itertools import permutations\n",
    "import cmath\n",
    "from qiskit import BasicAer\n",
    "backend_sv_sim = BasicAer.get_backend('statevector_simulator')\n",
    "backend_sim = BasicAer.get_backend('qasm_simulator')"
   ]
  },
  {
   "cell_type": "code",
   "execution_count": 2,
   "metadata": {},
   "outputs": [],
   "source": [
    "qr = QuantumRegister(1)\n",
    "cr = ClassicalRegister(1)\n",
    "circ = QuantumCircuit(qr,cr)"
   ]
  },
  {
   "cell_type": "code",
   "execution_count": 3,
   "metadata": {},
   "outputs": [],
   "source": [
    "gate_type = [\"H\", \"I\", \"X\", \"Y\", \"Z\"]\n",
    "def get_gates_random(n):\n",
    "    sqe = list(range(0, n))\n",
    "    return(random.sample(gate_type, 2), random.sample(sqe, 2))"
   ]
  },
  {
   "cell_type": "code",
   "execution_count": 4,
   "metadata": {},
   "outputs": [],
   "source": [
    "def gate_apply(user_input):\n",
    "    if(user_input) == \"I\":\n",
    "        print(\"\")\n",
    "    if(user_input) == \"X\":\n",
    "        circ.x(qr[0])\n",
    "    if(user_input) == \"Y\":\n",
    "        circ.y(qr[0])\n",
    "    if(user_input) == \"Z\":\n",
    "        circ.z(qr[0])\n",
    "    if(user_input) == \"H\":\n",
    "        circ.h(qr[0])"
   ]
  },
  {
   "cell_type": "code",
   "execution_count": 5,
   "metadata": {},
   "outputs": [
    {
     "name": "stdout",
     "output_type": "stream",
     "text": [
      "\n",
      "('H', 'H', 'I', 'I') {'0': 1000}\n",
      "\n",
      "('H', 'H', 'I', 'X') {'0': 1000}\n",
      "\n",
      "('H', 'H', 'I', 'Y') {'0': 1000}\n",
      "\n",
      "('H', 'H', 'I', 'Z') {'0': 1000}\n",
      "('H', 'H', 'X', 'X') {'1': 1000}\n",
      "('H', 'H', 'X', 'Y') {'1': 1000}\n",
      "('H', 'H', 'X', 'Z') {'1': 1000}\n",
      "('H', 'H', 'Y', 'Y') {'1': 1000}\n",
      "('H', 'H', 'Y', 'Z') {'1': 1000}\n",
      "('H', 'H', 'Z', 'Z') {'0': 1000}\n",
      "\n",
      "\n",
      "\n",
      "\n",
      "\n",
      "\n",
      "\n",
      "\n",
      "\n",
      "\n",
      "\n",
      "\n",
      "\n",
      "\n",
      "\n",
      "\n",
      "\n",
      "('I', 'I', 'I', 'I') {'0': 1000}\n",
      "\n",
      "\n",
      "\n",
      "('I', 'I', 'I', 'X') {'0': 1000}\n",
      "\n",
      "\n",
      "\n",
      "('I', 'I', 'I', 'Y') {'0': 1000}\n",
      "\n",
      "\n",
      "\n",
      "('I', 'I', 'I', 'Z') {'0': 1000}\n",
      "\n",
      "\n",
      "('I', 'I', 'X', 'X') {'1': 1000}\n",
      "\n",
      "\n",
      "('I', 'I', 'X', 'Y') {'1': 1000}\n",
      "\n",
      "\n",
      "('I', 'I', 'X', 'Z') {'1': 1000}\n",
      "\n",
      "\n",
      "('I', 'I', 'Y', 'Y') {'1': 1000}\n",
      "\n",
      "\n",
      "('I', 'I', 'Y', 'Z') {'1': 1000}\n",
      "\n",
      "\n",
      "('I', 'I', 'Z', 'Z') {'0': 1000}\n",
      "\n",
      "('I', 'X', 'X', 'X') {'0': 1000}\n",
      "\n",
      "('I', 'X', 'X', 'Y') {'0': 1000}\n",
      "\n",
      "('I', 'X', 'X', 'Z') {'0': 1000}\n",
      "\n",
      "('I', 'X', 'Y', 'Y') {'0': 1000}\n",
      "\n",
      "('I', 'X', 'Y', 'Z') {'0': 1000}\n",
      "\n",
      "('I', 'X', 'Z', 'Z') {'1': 1000}\n",
      "\n",
      "('I', 'Y', 'Y', 'Y') {'0': 1000}\n",
      "\n",
      "('I', 'Y', 'Y', 'Z') {'0': 1000}\n",
      "\n",
      "('I', 'Y', 'Z', 'Z') {'1': 1000}\n",
      "\n",
      "('I', 'Z', 'Z', 'Z') {'0': 1000}\n",
      "('X', 'X', 'X', 'X') {'1': 1000}\n",
      "('X', 'X', 'X', 'Y') {'1': 1000}\n",
      "('X', 'X', 'X', 'Z') {'1': 1000}\n",
      "('X', 'X', 'Y', 'Y') {'1': 1000}\n",
      "('X', 'X', 'Y', 'Z') {'1': 1000}\n",
      "('X', 'X', 'Z', 'Z') {'0': 1000}\n",
      "('X', 'Y', 'Y', 'Y') {'1': 1000}\n",
      "('X', 'Y', 'Y', 'Z') {'1': 1000}\n",
      "('X', 'Y', 'Z', 'Z') {'0': 1000}\n",
      "('X', 'Z', 'Z', 'Z') {'1': 1000}\n",
      "('Y', 'Y', 'Y', 'Y') {'1': 1000}\n",
      "('Y', 'Y', 'Y', 'Z') {'1': 1000}\n",
      "('Y', 'Y', 'Z', 'Z') {'0': 1000}\n",
      "('Y', 'Z', 'Z', 'Z') {'1': 1000}\n",
      "('Z', 'Z', 'Z', 'Z') {'0': 1000}\n"
     ]
    },
    {
     "data": {
      "text/plain": [
       "45"
      ]
     },
     "execution_count": 5,
     "metadata": {},
     "output_type": "execute_result"
    }
   ],
   "source": [
    "perm = itertools.combinations_with_replacement(gate_type, 4)\n",
    "perm2 = list(perm)\n",
    "karen = list()\n",
    "unkaren = list()\n",
    "for permute in perm2:\n",
    "    del qr\n",
    "    del cr\n",
    "    del circ\n",
    "    qr = QuantumRegister(1)\n",
    "    cr = ClassicalRegister(1)\n",
    "    circ = QuantumCircuit(qr,cr)\n",
    "    gate_apply(permute[0])\n",
    "    gate_apply(permute[1])\n",
    "    gate_apply(permute[2])\n",
    "    circ.measure(qr, cr)\n",
    "    job_sim = execute(circ, backend_sv_sim, shots=1000)\n",
    "    # Grab the results from the job.\n",
    "    result_sim = job_sim.result()\n",
    "    # Obtain the state vector for the quantum circuit\n",
    "    quantum_state = result_sim.get_statevector(circ, decimals=1)\n",
    "    # Output the quantum state vector in a manner that contains a comma-delimited string.\n",
    "    # Execute the circuit on the qasm simulator, running it 1000 times.\n",
    "    job_sim = execute(circ, backend_sim, shots=1000)\n",
    "    # Grab the results from the job.\n",
    "    result_sim = job_sim.result()\n",
    "    counts = result_sim.get_counts(circ)\n",
    "    if 1000 in counts.values():\n",
    "        print(permute, counts)\n",
    "        karen.append(permute)\n",
    "        unkaren.append(counts)\n",
    "        \n",
    "        \n",
    "        \n",
    "len(karen)"
   ]
  },
  {
   "cell_type": "code",
   "execution_count": 6,
   "metadata": {},
   "outputs": [],
   "source": [
    "def gate_organ(chosen):\n",
    "    global choosenext\n",
    "    if chosen == one:\n",
    "        choosenext = two\n",
    "    else:\n",
    "        choosenext = one\n",
    "    return(chosen, choosenext)"
   ]
  },
  {
   "cell_type": "code",
   "execution_count": 7,
   "metadata": {},
   "outputs": [],
   "source": [
    "def greater_organ(poss, impo):\n",
    "    global chosen\n",
    "    chosen = random.choice([poss, impo])\n",
    "    return(gate_organ(chosen))"
   ]
  },
  {
   "cell_type": "code",
   "execution_count": 8,
   "metadata": {},
   "outputs": [],
   "source": [
    "# this function takes a state and solution\n",
    "# the user will have to identify the correct gate sequence\n",
    "# to pass to the next level\n",
    "# future versions will have each level have a larger number of gates in\n",
    "# the sequence. The intention is to increase the intuition of the user\n",
    "# on how these gates work.\n",
    "\n",
    "def how_many_gates(poss, impo, n):\n",
    "    global up\n",
    "    global down\n",
    "    up = greater_organ(poss, impo)[0]\n",
    "    down = greater_organ(poss, impo)[1]\n",
    "    print(up)\n",
    "    print(down)\n",
    "    for i in range(0, n):\n",
    "        print(up[i])\n",
    "        print(down[i])\n",
    "        gate_sel = input(\"Choose gate:\")\n",
    "        gate_apply(gate_sel)\n",
    "    circ.measure(qr, cr)\n",
    "    job_sim = execute(circ, backend_sim, shots=1000)\n",
    "    result_sim = job_sim.result()\n",
    "    counts = result_sim.get_counts(circ)\n",
    "    return(counts)"
   ]
  },
  {
   "cell_type": "code",
   "execution_count": null,
   "metadata": {},
   "outputs": [],
   "source": [
    "thing = random.choice(range(0, len(karen)))\n",
    "one = karen[thing]\n",
    "two = random.choice(list(perm2))\n",
    "\n",
    "print(\"This is the answer:\", karen[thing])\n",
    "print(\"Desired State\",list(unkaren[thing].keys())[0])\n",
    "counts = how_many_gates(one, two, 4)\n",
    "if unkaren[thing] == counts:\n",
    "    print(\"You did it!\")\n",
    "else:\n",
    "    print(\"NO!\")"
   ]
  },
  {
   "cell_type": "markdown",
   "metadata": {},
   "source": [
    "# Two Qubit Game:"
   ]
  },
  {
   "cell_type": "code",
   "execution_count": 9,
   "metadata": {},
   "outputs": [],
   "source": [
    "total_ways = list()\n",
    "def all_gat_plicat(num_qubits):\n",
    "    for n in range(0,num_qubits):\n",
    "        for i in gate_type:\n",
    "            total_ways.append(i + ''.join(str(n)))\n",
    "    return(total_ways)\n",
    "\n",
    "\n",
    "    "
   ]
  },
  {
   "cell_type": "code",
   "execution_count": 15,
   "metadata": {},
   "outputs": [],
   "source": [
    "qr2 = QuantumRegister(2)\n",
    "cr2 = ClassicalRegister(2)\n",
    "circ2 = QuantumCircuit(qr2, cr2)\n",
    "list_from_whence = all_gat_plicat(2)\n",
    "indi_perm = itertools.combinations_with_replacement(list_from_whence, 2)\n",
    "qualm = list(indi_perm)"
   ]
  },
  {
   "cell_type": "code",
   "execution_count": 11,
   "metadata": {},
   "outputs": [],
   "source": [
    "def mysplitnum(s):\n",
    "    head = s.rstrip('0123456789')\n",
    "    tail = s[len(head):]\n",
    "    return int(tail)\n",
    "\n",
    "def gate_apply2(user_input, n):\n",
    "    if(user_input) == \"I\":\n",
    "        circ2.u0(1, qr2[n])\n",
    "    if(user_input) == \"X\":\n",
    "        circ2.x(qr2[n])\n",
    "        circ2.barrier(qr2[n])\n",
    "    if(user_input) == \"Y\":\n",
    "        circ2.y(qr2[n])\n",
    "        circ2.barrier(qr2[n])\n",
    "    if(user_input) == \"Z\":\n",
    "        circ2.z(qr2[n])\n",
    "    if(user_input) == \"H\":\n",
    "        circ2.h(qr2[n])\n",
    "        circ2.barrier(qr2[n])\n",
    "\n",
    "def mysplittxt(s):\n",
    "    head = s.rstrip('0123456789')\n",
    "    tail = s[len(head):]\n",
    "    return head"
   ]
  },
  {
   "cell_type": "code",
   "execution_count": 12,
   "metadata": {},
   "outputs": [
    {
     "name": "stdout",
     "output_type": "stream",
     "text": [
      "('H0', 'H0') {'00': 1000}\n",
      "('I0', 'I0') {'00': 1000}\n",
      "('I0', 'X0') {'01': 1000}\n",
      "('I0', 'Y0') {'01': 1000}\n",
      "('I0', 'Z0') {'00': 1000}\n",
      "('I0', 'I1') {'00': 1000}\n",
      "('I0', 'X1') {'10': 1000}\n",
      "('I0', 'Y1') {'10': 1000}\n",
      "('I0', 'Z1') {'00': 1000}\n",
      "('X0', 'X0') {'00': 1000}\n",
      "('X0', 'Y0') {'00': 1000}\n",
      "('X0', 'Z0') {'01': 1000}\n",
      "('X0', 'I1') {'01': 1000}\n",
      "('X0', 'X1') {'11': 1000}\n",
      "('X0', 'Y1') {'11': 1000}\n",
      "('X0', 'Z1') {'01': 1000}\n",
      "('Y0', 'Y0') {'00': 1000}\n",
      "('Y0', 'Z0') {'01': 1000}\n",
      "('Y0', 'I1') {'01': 1000}\n",
      "('Y0', 'X1') {'11': 1000}\n",
      "('Y0', 'Y1') {'11': 1000}\n",
      "('Y0', 'Z1') {'01': 1000}\n",
      "('Z0', 'Z0') {'00': 1000}\n",
      "('Z0', 'I1') {'00': 1000}\n",
      "('Z0', 'X1') {'10': 1000}\n",
      "('Z0', 'Y1') {'10': 1000}\n",
      "('Z0', 'Z1') {'00': 1000}\n",
      "('H1', 'H1') {'00': 1000}\n",
      "('I1', 'I1') {'00': 1000}\n",
      "('I1', 'X1') {'10': 1000}\n",
      "('I1', 'Y1') {'10': 1000}\n",
      "('I1', 'Z1') {'00': 1000}\n",
      "('X1', 'X1') {'00': 1000}\n",
      "('X1', 'Y1') {'00': 1000}\n",
      "('X1', 'Z1') {'10': 1000}\n",
      "('Y1', 'Y1') {'00': 1000}\n",
      "('Y1', 'Z1') {'10': 1000}\n",
      "('Z1', 'Z1') {'00': 1000}\n"
     ]
    }
   ],
   "source": [
    "karen2 = list()\n",
    "unkaren2 = list()\n",
    "\n",
    "for i in qualm:\n",
    "    del qr2\n",
    "    del cr2\n",
    "    del circ2\n",
    "    qr2 = QuantumRegister(2)\n",
    "    cr2 = ClassicalRegister(2)\n",
    "    circ2 = QuantumCircuit(qr2, cr2)\n",
    "    gate_apply2(mysplittxt(i[0]), mysplitnum(i[0]))\n",
    "    gate_apply2(mysplittxt(i[1]), mysplitnum(i[1]))\n",
    "    circ2.barrier(qr2)\n",
    "    circ2.measure(qr2,cr2)\n",
    "    job_sim = execute(circ2, backend_sv_sim, shots=1000)\n",
    "    # Grab the results from the job.\n",
    "    result_sim = job_sim.result()\n",
    "    # Obtain the state vector for the quantum circuit\n",
    "    quantum_state = result_sim.get_statevector(circ2, decimals=1)\n",
    "    # Output the quantum state vector in a manner that contains a comma-delimited string.\n",
    "    # Execute the circuit on the qasm simulator, running it 1000 times.\n",
    "    job_sim = execute(circ2, backend_sim, shots=1000)\n",
    "    # Grab the results from the job.\n",
    "    result_sim = job_sim.result()\n",
    "    counts = result_sim.get_counts(circ2)\n",
    "    if 1000 in counts.values():\n",
    "        print(i, counts)\n",
    "        karen2.append(i)\n",
    "        unkaren2.append(counts)"
   ]
  },
  {
   "cell_type": "code",
   "execution_count": 17,
   "metadata": {},
   "outputs": [],
   "source": [
    "def how_many_gates2(poss, impo, n):\n",
    "    global up\n",
    "    global down\n",
    "    up = greater_organ(poss, impo)[0]\n",
    "    down = greater_organ(poss, impo)[1]\n",
    "    print(up)\n",
    "    print(down)\n",
    "    for i in range(0, n):\n",
    "        print(up[i])\n",
    "        print(down[i])\n",
    "        gate_sel = input(\"Choose gate:\")\n",
    "        gate_apply2(mysplittxt(gate_sel), mysplitnum(gate_sel))\n",
    "    circ2.measure(qr2,cr2)\n",
    "    job_sim = execute(circ2, backend_sim, shots=1000)\n",
    "    result_sim = job_sim.result()\n",
    "    counts = result_sim.get_counts(circ2)\n",
    "    return(counts)"
   ]
  },
  {
   "cell_type": "markdown",
   "metadata": {},
   "source": [
    "# Here is where the 'game' is:\n",
    "$\\textbf{How it works}$: For now the module shows the solution as well. \n",
    "The user is presented with a sequence of gates, and they must enter the correct sequence to achieve the desired states. The gates are H, X, Y, Z, I and they are indexed by the number of qubit that the apply to.\n",
    "\n",
    "Note: There may be more than one way to achieve the desired state, as the other four options are produced randomly.\n"
   ]
  },
  {
   "cell_type": "code",
   "execution_count": 37,
   "metadata": {},
   "outputs": [
    {
     "name": "stdout",
     "output_type": "stream",
     "text": [
      "This is the answer: ('Y0', 'X1')\n",
      "Desired State 11\n",
      "('Y1', 'Y1')\n",
      "('Y0', 'X1')\n",
      "Y1\n",
      "Y0\n",
      "Choose gate:Y0\n",
      "Y1\n",
      "X1\n",
      "Choose gate:X1\n",
      "{'11': 1000}\n",
      "You did it!\n"
     ]
    }
   ],
   "source": [
    "thing = random.choice(range(0, len(karen2)))\n",
    "one = karen2[thing]\n",
    "two = random.choice(qualm)\n",
    "qr2 = QuantumRegister(2)\n",
    "cr2 = ClassicalRegister(2)\n",
    "circ2 = QuantumCircuit(qr2, cr2)\n",
    "#remove this line to play properly\n",
    "print(\"This is the answer:\", karen2[thing])\n",
    "print(\"Desired State\",list(unkaren2[thing].keys())[0])\n",
    "counts = how_many_gates2(one, two, 2)\n",
    "print(counts)\n",
    "if unkaren2[thing] == counts:\n",
    "    print(\"You did it!\")\n",
    "else:\n",
    "    print(\"NO!\")"
   ]
  },
  {
   "cell_type": "code",
   "execution_count": 35,
   "metadata": {},
   "outputs": [
    {
     "name": "stdout",
     "output_type": "stream",
     "text": [
      "('H0', 'H0')\n",
      "('I0', 'Z1')\n"
     ]
    },
    {
     "data": {
      "text/plain": [
       "{'00': 1000}"
      ]
     },
     "execution_count": 35,
     "metadata": {},
     "output_type": "execute_result"
    }
   ],
   "source": [
    "thing = random.choice(range(0, len(karen2)))\n",
    "one = karen2[thing]\n",
    "two = random.choice(qualm)\n",
    "print(one)\n",
    "print(two)\n",
    "unkaren2[thing]"
   ]
  },
  {
   "cell_type": "code",
   "execution_count": null,
   "metadata": {},
   "outputs": [],
   "source": []
  },
  {
   "cell_type": "code",
   "execution_count": null,
   "metadata": {},
   "outputs": [],
   "source": []
  }
 ],
 "metadata": {
  "kernelspec": {
   "display_name": "Python 3",
   "language": "python",
   "name": "python3"
  },
  "language_info": {
   "codemirror_mode": {
    "name": "ipython",
    "version": 3
   },
   "file_extension": ".py",
   "mimetype": "text/x-python",
   "name": "python",
   "nbconvert_exporter": "python",
   "pygments_lexer": "ipython3",
   "version": "3.7.1"
  }
 },
 "nbformat": 4,
 "nbformat_minor": 2
}
