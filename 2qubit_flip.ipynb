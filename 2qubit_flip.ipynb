{
 "cells": [
  {
   "cell_type": "code",
   "execution_count": 8,
   "metadata": {},
   "outputs": [
    {
     "name": "stdout",
     "output_type": "stream",
     "text": [
      "Intended final state =  11\n",
      "Select a gate from iden2 and z1\n",
      "z1\n"
     ]
    },
    {
     "data": {
      "image/png": "[encoded data removed]",
      "text/plain": [
       "<Figure size 361.2x258.86 with 1 Axes>"
      ]
     },
     "execution_count": 8,
     "metadata": {},
     "output_type": "execute_result"
    }
   ],
   "source": [
    "from qiskit import QuantumRegister, ClassicalRegister, QuantumCircuit\n",
    "import numpy as np\n",
    "from qiskit import execute\n",
    "from random import *\n",
    "from qiskit import BasicAer\n",
    "\n",
    "def count_calc(circuit):\n",
    "    backend_sim = BasicAer.get_backend('qasm_simulator')\n",
    "    job_sim = execute(circuit, backend_sim, shots=100)\n",
    "    result_sim = job_sim.result()\n",
    "    counts = result_sim.get_counts(circuit)\n",
    "    return counts\n",
    "\n",
    "\n",
    "\n",
    "\n",
    "possible_desired=['00','01','10','11']\n",
    "selection=randint(0,3)\n",
    "print('Intended final state = ',possible_desired[selection])\n",
    "\n",
    "prob10=[]\n",
    "if selection==0:\n",
    "    prob0=[1,0,0,0]\n",
    "elif selection==1:\n",
    "    prob0=[0,1,0,0]\n",
    "elif selection==2:\n",
    "    prob0=[0,0,1,0]\n",
    "else:\n",
    "    prob0=[0,0,0,1]\n",
    "    \n",
    "\n",
    "\n",
    "gates_choices=['iden1','x1','y1','z1','iden2','x2','y2','z2']\n",
    "qr=QuantumRegister(2)\n",
    "cr=ClassicalRegister(2)\n",
    "circ=QuantumCircuit(qr,cr)\n",
    "random_gate1=gates_choices[randint(0,7)]\n",
    "random_gate2=gates_choices[randint(0,7)]\n",
    "print(\"Select a gate from\",random_gate1, \"and\",random_gate2)\n",
    "gate_selection=input()\n",
    "qubit_id=gate_selection[-1]+\"-1\"\n",
    "k=gate_selection[-2]\n",
    "if k=='n':\n",
    "    gate_id='iden'\n",
    "else:\n",
    "    gate_id=gate_selection[-2]\n",
    "eval(\"circ.\"+gate_id+\"(qr[\"+qubit_id+\"])\")\n",
    "circ.measure(qr, cr)\n",
    "circ.draw(output='mpl')\n",
    "\n",
    "\n",
    "\n"
   ]
  },
  {
   "cell_type": "code",
   "execution_count": 4,
   "metadata": {},
   "outputs": [
    {
     "data": {
      "text/plain": [
       "'z'"
      ]
     },
     "execution_count": 4,
     "metadata": {},
     "output_type": "execute_result"
    }
   ],
   "source": [
    "gate_id"
   ]
  },
  {
   "cell_type": "code",
   "execution_count": 5,
   "metadata": {},
   "outputs": [
    {
     "data": {
      "text/plain": [
       "'2'"
      ]
     },
     "execution_count": 5,
     "metadata": {},
     "output_type": "execute_result"
    }
   ],
   "source": [
    "qubit_id"
   ]
  },
  {
   "cell_type": "code",
   "execution_count": null,
   "metadata": {},
   "outputs": [],
   "source": []
  }
 ],
 "metadata": {
  "kernelspec": {
   "display_name": "Python 3",
   "language": "python",
   "name": "python3"
  },
  "language_info": {
   "codemirror_mode": {
    "name": "ipython",
    "version": 3
   },
   "file_extension": ".py",
   "mimetype": "text/x-python",
   "name": "python",
   "nbconvert_exporter": "python",
   "pygments_lexer": "ipython3",
   "version": "3.7.1"
  }
 },
 "nbformat": 4,
 "nbformat_minor": 2
}
