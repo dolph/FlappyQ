{
 "cells": [
  {
   "cell_type": "code",
   "execution_count": 111,
   "metadata": {},
   "outputs": [],
   "source": [
    "import numpy as np\n",
    "from qiskit import QuantumCircuit, ClassicalRegister, QuantumRegister, execute\n",
    "import random\n",
    "import tkinter as tk\n",
    "from tkinter import *"
   ]
  },
  {
   "cell_type": "code",
   "execution_count": 150,
   "metadata": {},
   "outputs": [],
   "source": [
    "qr = QuantumRegister(2)\n",
    "cr = ClassicalRegister(2)\n",
    "circ = QuantumCircuit(qr,cr)"
   ]
  },
  {
   "cell_type": "code",
   "execution_count": 113,
   "metadata": {},
   "outputs": [],
   "source": [
    "def get_gates_random(n):\n",
    "    gate_type = [\"H\", \"I\", \"X\", \"Y\", \"Z\"]\n",
    "    sqe = list(range(0, n))\n",
    "    return(random.choice(gate_type), random.choice(sqe))"
   ]
  },
  {
   "cell_type": "code",
   "execution_count": 207,
   "metadata": {},
   "outputs": [],
   "source": [
    "def options_gate(n):\n",
    "    # n is the number of qubits of interest\n",
    "    global one\n",
    "    global two\n",
    "    \n",
    "    one = get_gates_random(n)\n",
    "    two = get_gates_random(n)\n",
    "    \n",
    "    return(one,two)"
   ]
  },
  {
   "cell_type": "code",
   "execution_count": 124,
   "metadata": {},
   "outputs": [],
   "source": [
    "## This is the function of interest\n",
    "\n",
    "def gate_apply(user_input, n):\n",
    "    if(user_input) == \"I\":\n",
    "        print(\"none\")\n",
    "    if(user_input) == \"X\":\n",
    "        circ.x(qr[n])\n",
    "    if(user_input) == \"Y\":\n",
    "        circ.y(qr[n])\n",
    "    if(user_input) == \"Z\":\n",
    "        circ.z(qr[n])\n",
    "    if(user_input) == \"H\":\n",
    "        circ.h(qr[n])"
   ]
  },
  {
   "cell_type": "code",
   "execution_count": 208,
   "metadata": {},
   "outputs": [],
   "source": [
    "options_gate(2)\n",
    "master = Tk()\n",
    "user_input = Entry(master)"
   ]
  },
  {
   "cell_type": "code",
   "execution_count": 209,
   "metadata": {},
   "outputs": [
    {
     "name": "stdout",
     "output_type": "stream",
     "text": [
      "\n"
     ]
    }
   ],
   "source": [
    "def ButtonOneCallback():\n",
    "    value = user_input.get()\n",
    "    gate_apply(one[0], one[1])\n",
    "\n",
    "def ButtonTwoCallback():\n",
    "    value = user_input.get()\n",
    "    gate_apply(two[0], two[1])\n",
    "    \n",
    "\n",
    "button1 = Button(master, text= one, command=ButtonOneCallback)\n",
    "button1.pack()\n",
    "button2 = Button(master, text= two, command=ButtonTwoCallback)\n",
    "button2.pack()\n",
    "mainloop()"
   ]
  },
  {
   "cell_type": "code",
   "execution_count": 127,
   "metadata": {},
   "outputs": [
    {
     "data": {
      "image/png": "[encoded data removed]",
      "text/plain": [
       "<matplotlib.figure.Figure at 0xa273990b8>"
      ]
     },
     "execution_count": 127,
     "metadata": {},
     "output_type": "execute_result"
    }
   ],
   "source": [
    "circ.barrier(qr[0], qr[1])\n",
    "circ.measure(qr,cr)\n",
    "circ.draw(output = 'mpl')"
   ]
  },
  {
   "cell_type": "code",
   "execution_count": 131,
   "metadata": {},
   "outputs": [
    {
     "name": "stdout",
     "output_type": "stream",
     "text": [
      "Choose gate:X\n",
      "Choose qubit:1\n",
      "Choose gate:Y\n",
      "Choose qubit:0\n"
     ]
    },
    {
     "data": {
      "image/png": "[encoded data removed]",
      "text/plain": [
       "<matplotlib.figure.Figure at 0xa27997048>"
      ]
     },
     "execution_count": 131,
     "metadata": {},
     "output_type": "execute_result"
    }
   ],
   "source": [
    "qr = QuantumRegister(2)\n",
    "cr = ClassicalRegister(2)\n",
    "circ = QuantumCircuit(qr,cr)\n",
    "circ.barrier(qr[0], qr[1])\n",
    "\n",
    "gate_choice = input(\"Choose gate:\")\n",
    "qubit_choice = input(\"Choose qubit:\")\n",
    "gate_apply(gate_choice, n = int(qubit_choice))\n",
    "circ.barrier(qr[0], qr[1])\n",
    "gate_choice = input(\"Choose gate:\")\n",
    "qubit_choice = input(\"Choose qubit:\")\n",
    "gate_apply(gate_choice, n = int(qubit_choice))\n",
    "circ.barrier(qr[0], qr[1])\n",
    "circ.measure(qr,cr)\n",
    "circ.draw(output = 'mpl')"
   ]
  },
  {
   "cell_type": "code",
   "execution_count": 342,
   "metadata": {},
   "outputs": [],
   "source": [
    "# for executing an arbitrary number of gates per user specifications\n",
    "\n",
    "\n",
    "def mysplitnum(s):\n",
    "    head = s.rstrip('0123456789')\n",
    "    tail = s[len(head):]\n",
    "    return int(tail)\n",
    "\n",
    "def mysplittxt(s):\n",
    "    head = s.rstrip('0123456789')\n",
    "    tail = s[len(head):]\n",
    "    return head\n",
    "\n",
    "def create_circuit(n):\n",
    "    #n is number of gates\n",
    "    circ.measure(qr,cr)\n",
    "    for i in range(0, n):\n",
    "        \n",
    "        # make gate entry H1 or Z0 for example\n",
    "        gate_sel = input(\"Choose gate:\")\n",
    "        # gate_choice = input(\"Choose gate:\")\n",
    "        # qubit_choice = input(\"Choose qubit:\")\n",
    "        gate_apply(mysplittxt(gate_sel), mysplitnum(gate_sel))\n",
    "        circ.barrier(qr)\n",
    "        circ.measure(qr,cr)"
   ]
  },
  {
   "cell_type": "code",
   "execution_count": 343,
   "metadata": {},
   "outputs": [
    {
     "name": "stdout",
     "output_type": "stream",
     "text": [
      "Choose gate:H0\n",
      "Choose gate:H0\n",
      "Choose gate:H0\n",
      "Choose gate:H0\n"
     ]
    },
    {
     "data": {
      "image/png": "[encoded data removed]",
      "text/plain": [
       "<matplotlib.figure.Figure at 0xa2e451908>"
      ]
     },
     "execution_count": 343,
     "metadata": {},
     "output_type": "execute_result"
    }
   ],
   "source": [
    "qr = QuantumRegister(2)\n",
    "cr = ClassicalRegister(2)\n",
    "circ = QuantumCircuit(qr,cr)\n",
    "#circ.measure(qr,cr)\n",
    "create_circuit(4)\n",
    "circ.draw(output = 'mpl')\n",
    "\n"
   ]
  },
  {
   "cell_type": "code",
   "execution_count": 227,
   "metadata": {},
   "outputs": [
    {
     "name": "stdout",
     "output_type": "stream",
     "text": [
      "{'00000': 128, '01100': 133, '01110': 112, '01010': 124, '01000': 124, '00100': 120, '00110': 134, '00010': 125}\n"
     ]
    }
   ],
   "source": [
    "# Use the BasicAer qasm_simulator backend\n",
    "from qiskit import BasicAer\n",
    "backend_sim = BasicAer.get_backend('qasm_simulator')\n",
    "\n",
    "# Execute the circuit on the qasm simulator, running it 1000 times.\n",
    "job_sim = execute(circ, backend_sim, shots=1000)\n",
    "\n",
    "# Grab the results from the job.\n",
    "result_sim = job_sim.result()\n",
    "\n",
    "# Print the counts, which are contained in a Python dictionary\n",
    "counts = result_sim.get_counts(circ)\n",
    "print(counts)"
   ]
  },
  {
   "cell_type": "code",
   "execution_count": 228,
   "metadata": {},
   "outputs": [
    {
     "data": {
      "image/png": "[encoded data removed]",
      "text/plain": [
       "<matplotlib.figure.Figure at 0xa27d70978>"
      ]
     },
     "execution_count": 228,
     "metadata": {},
     "output_type": "execute_result"
    }
   ],
   "source": [
    "from qiskit.tools.visualization import plot_histogram\n",
    "plot_histogram(counts)\n"
   ]
  },
  {
   "cell_type": "code",
   "execution_count": 218,
   "metadata": {},
   "outputs": [
    {
     "data": {
      "text/plain": [
       "array([0.5+0.j, 0.5+0.j, 0.5+0.j, 0.5+0.j])"
      ]
     },
     "execution_count": 218,
     "metadata": {},
     "output_type": "execute_result"
    }
   ],
   "source": [
    "# Use the BasicAer statevector_simulator backend\n",
    "from qiskit import BasicAer\n",
    "backend_sv_sim = BasicAer.get_backend('statevector_simulator')\n",
    "\n",
    "# Execute the circuit on the state vector simulator\n",
    "job_sim = execute(circ, backend_sv_sim)\n",
    "\n",
    "# Grab the results from the job.\n",
    "result_sim = job_sim.result()\n",
    "\n",
    "# Obtain the state vector for the quantum circuit\n",
    "quantum_state = result_sim.get_statevector(circ, decimals=3)\n",
    "\n",
    "# Output the quantum state vector in a manner that contains a comma-delimited string.\n",
    "quantum_state"
   ]
  },
  {
   "cell_type": "code",
   "execution_count": 287,
   "metadata": {},
   "outputs": [
    {
     "name": "stdout",
     "output_type": "stream",
     "text": [
      "button 3\n",
      "done!\n"
     ]
    },
    {
     "ename": "KeyboardInterrupt",
     "evalue": "",
     "output_type": "error",
     "traceback": [
      "\u001b[0;31m---------------------------------------------------------------------------\u001b[0m",
      "\u001b[0;31mKeyboardInterrupt\u001b[0m                         Traceback (most recent call last)",
      "\u001b[0;32m<ipython-input-287-0eb30cfbe2bf>\u001b[0m in \u001b[0;36m<module>\u001b[0;34m()\u001b[0m\n\u001b[1;32m      2\u001b[0m \u001b[0mb\u001b[0m\u001b[0;34m=\u001b[0m\u001b[0mButton\u001b[0m\u001b[0;34m(\u001b[0m\u001b[0mtext\u001b[0m\u001b[0;34m=\u001b[0m\u001b[0;34m\"two\"\u001b[0m\u001b[0;34m,\u001b[0m   \u001b[0mcommand\u001b[0m\u001b[0;34m=\u001b[0m\u001b[0;32mlambda\u001b[0m\u001b[0;34m:\u001b[0m \u001b[0mcallback\u001b[0m\u001b[0;34m(\u001b[0m\u001b[0;36m2\u001b[0m\u001b[0;34m)\u001b[0m\u001b[0;34m)\u001b[0m\u001b[0;34m.\u001b[0m\u001b[0mpack\u001b[0m\u001b[0;34m(\u001b[0m\u001b[0;34m)\u001b[0m\u001b[0;34m\u001b[0m\u001b[0m\n\u001b[1;32m      3\u001b[0m \u001b[0mc\u001b[0m\u001b[0;34m=\u001b[0m\u001b[0mButton\u001b[0m\u001b[0;34m(\u001b[0m\u001b[0mtext\u001b[0m\u001b[0;34m=\u001b[0m\u001b[0;34m\"three\"\u001b[0m\u001b[0;34m,\u001b[0m \u001b[0mcommand\u001b[0m\u001b[0;34m=\u001b[0m\u001b[0;32mlambda\u001b[0m\u001b[0;34m:\u001b[0m \u001b[0mcallback\u001b[0m\u001b[0;34m(\u001b[0m\u001b[0;36m3\u001b[0m\u001b[0;34m)\u001b[0m\u001b[0;34m)\u001b[0m\u001b[0;34m.\u001b[0m\u001b[0mpack\u001b[0m\u001b[0;34m(\u001b[0m\u001b[0;34m)\u001b[0m\u001b[0;34m\u001b[0m\u001b[0m\n\u001b[0;32m----> 4\u001b[0;31m \u001b[0mmainloop\u001b[0m\u001b[0;34m(\u001b[0m\u001b[0;34m)\u001b[0m\u001b[0;34m\u001b[0m\u001b[0m\n\u001b[0m",
      "\u001b[0;32m~/anaconda3/lib/python3.6/tkinter/__init__.py\u001b[0m in \u001b[0;36mmainloop\u001b[0;34m(n)\u001b[0m\n\u001b[1;32m    555\u001b[0m \u001b[0;32mdef\u001b[0m \u001b[0mmainloop\u001b[0m\u001b[0;34m(\u001b[0m\u001b[0mn\u001b[0m\u001b[0;34m=\u001b[0m\u001b[0;36m0\u001b[0m\u001b[0;34m)\u001b[0m\u001b[0;34m:\u001b[0m\u001b[0;34m\u001b[0m\u001b[0m\n\u001b[1;32m    556\u001b[0m     \u001b[0;34m\"\"\"Run the main loop of Tcl.\"\"\"\u001b[0m\u001b[0;34m\u001b[0m\u001b[0m\n\u001b[0;32m--> 557\u001b[0;31m     \u001b[0m_default_root\u001b[0m\u001b[0;34m.\u001b[0m\u001b[0mtk\u001b[0m\u001b[0;34m.\u001b[0m\u001b[0mmainloop\u001b[0m\u001b[0;34m(\u001b[0m\u001b[0mn\u001b[0m\u001b[0;34m)\u001b[0m\u001b[0;34m\u001b[0m\u001b[0m\n\u001b[0m\u001b[1;32m    558\u001b[0m \u001b[0;34m\u001b[0m\u001b[0m\n\u001b[1;32m    559\u001b[0m \u001b[0mgetint\u001b[0m \u001b[0;34m=\u001b[0m \u001b[0mint\u001b[0m\u001b[0;34m\u001b[0m\u001b[0m\n",
      "\u001b[0;31mKeyboardInterrupt\u001b[0m: "
     ]
    }
   ],
   "source": [
    "def callback(number):\n",
    "    print(\"button\", number)\n",
    "    print(\"done!\")\n",
    "\n",
    "Button(text=\"one\",   command=lambda: callback(1)).pack()\n",
    "Button(text=\"two\",   command=lambda: callback(2)).pack()\n",
    "Button(text=\"three\", command=lambda: callback(3)).pack()\n",
    "\n"
   ]
  },
  {
   "cell_type": "code",
   "execution_count": 282,
   "metadata": {},
   "outputs": [],
   "source": []
  },
  {
   "cell_type": "code",
   "execution_count": 290,
   "metadata": {},
   "outputs": [
    {
     "name": "stdout",
     "output_type": "stream",
     "text": [
      "clicked!\n"
     ]
    },
    {
     "ename": "KeyboardInterrupt",
     "evalue": "",
     "output_type": "error",
     "traceback": [
      "\u001b[0;31m---------------------------------------------------------------------------\u001b[0m",
      "\u001b[0;31mKeyboardInterrupt\u001b[0m                         Traceback (most recent call last)",
      "\u001b[0;32m<ipython-input-290-ac13f79414e2>\u001b[0m in \u001b[0;36m<module>\u001b[0;34m()\u001b[0m\n\u001b[1;32m     12\u001b[0m \u001b[0mprogram\u001b[0m \u001b[0;34m=\u001b[0m \u001b[0mProgram\u001b[0m\u001b[0;34m(\u001b[0m\u001b[0;34m)\u001b[0m\u001b[0;34m\u001b[0m\u001b[0m\n\u001b[1;32m     13\u001b[0m \u001b[0;34m\u001b[0m\u001b[0m\n\u001b[0;32m---> 14\u001b[0;31m \u001b[0mmainloop\u001b[0m\u001b[0;34m(\u001b[0m\u001b[0;34m)\u001b[0m\u001b[0;34m\u001b[0m\u001b[0m\n\u001b[0m",
      "\u001b[0;32m~/anaconda3/lib/python3.6/tkinter/__init__.py\u001b[0m in \u001b[0;36mmainloop\u001b[0;34m(n)\u001b[0m\n\u001b[1;32m    555\u001b[0m \u001b[0;32mdef\u001b[0m \u001b[0mmainloop\u001b[0m\u001b[0;34m(\u001b[0m\u001b[0mn\u001b[0m\u001b[0;34m=\u001b[0m\u001b[0;36m0\u001b[0m\u001b[0;34m)\u001b[0m\u001b[0;34m:\u001b[0m\u001b[0;34m\u001b[0m\u001b[0m\n\u001b[1;32m    556\u001b[0m     \u001b[0;34m\"\"\"Run the main loop of Tcl.\"\"\"\u001b[0m\u001b[0;34m\u001b[0m\u001b[0m\n\u001b[0;32m--> 557\u001b[0;31m     \u001b[0m_default_root\u001b[0m\u001b[0;34m.\u001b[0m\u001b[0mtk\u001b[0m\u001b[0;34m.\u001b[0m\u001b[0mmainloop\u001b[0m\u001b[0;34m(\u001b[0m\u001b[0mn\u001b[0m\u001b[0;34m)\u001b[0m\u001b[0;34m\u001b[0m\u001b[0m\n\u001b[0m\u001b[1;32m    558\u001b[0m \u001b[0;34m\u001b[0m\u001b[0m\n\u001b[1;32m    559\u001b[0m \u001b[0mgetint\u001b[0m \u001b[0;34m=\u001b[0m \u001b[0mint\u001b[0m\u001b[0;34m\u001b[0m\u001b[0m\n",
      "\u001b[0;31mKeyboardInterrupt\u001b[0m: "
     ]
    }
   ],
   "source": [
    "from tkinter import *\n",
    "\n",
    "class Program:\n",
    "\n",
    "    def __init__(self):\n",
    "        b = Button(text=\"click me\", command = self.callback)\n",
    "        b.pack()\n",
    "\n",
    "    def callback(self):\n",
    "        print(\"clicked!\")\n",
    "\n",
    "program = Program()\n",
    "\n",
    "mainloop()"
   ]
  },
  {
   "cell_type": "code",
   "execution_count": null,
   "metadata": {},
   "outputs": [],
   "source": []
  }
 ],
 "metadata": {
  "kernelspec": {
   "display_name": "Python 3",
   "language": "python",
   "name": "python3"
  },
  "language_info": {
   "codemirror_mode": {
    "name": "ipython",
    "version": 3
   },
   "file_extension": ".py",
   "mimetype": "text/x-python",
   "name": "python",
   "nbconvert_exporter": "python",
   "pygments_lexer": "ipython3",
   "version": "3.6.5"
  }
 },
 "nbformat": 4,
 "nbformat_minor": 2
}
