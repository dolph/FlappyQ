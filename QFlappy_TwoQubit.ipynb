{
 "cells": [
  {
   "cell_type": "code",
   "execution_count": 2,
   "metadata": {},
   "outputs": [],
   "source": [
    "import numpy as np\n",
    "from qiskit import QuantumCircuit, ClassicalRegister, QuantumRegister, execute\n",
    "import random\n",
    "import tkinter as tk\n",
    "from tkinter import *"
   ]
  },
  {
   "cell_type": "code",
   "execution_count": 3,
   "metadata": {},
   "outputs": [],
   "source": [
    "qr = QuantumRegister(2)\n",
    "cr = ClassicalRegister(2)\n",
    "circ = QuantumCircuit(qr,cr)"
   ]
  },
  {
   "cell_type": "code",
   "execution_count": 52,
   "metadata": {},
   "outputs": [],
   "source": [
    "def get_gates_random(n):\n",
    "    gate_type = [\"H\", \"I\", \"X\", \"Y\", \"Z\"]\n",
    "    sqe = list(range(0, n))\n",
    "    return(random.choice(gate_type), random.choice(sqe))"
   ]
  },
  {
   "cell_type": "code",
   "execution_count": 66,
   "metadata": {},
   "outputs": [],
   "source": [
    "def options_gate(n):\n",
    "    # n is the number of qubits of interest\n",
    "    global one\n",
    "    global two\n",
    "    \n",
    "    one = get_gates_random(n)\n",
    "    two = get_gates_random(n)\n",
    "    \n",
    "    return(one,two)\n",
    "\n"
   ]
  },
  {
   "cell_type": "code",
   "execution_count": null,
   "metadata": {},
   "outputs": [],
   "source": [
    "## This is the function of interest\n",
    "\n",
    "def gate_apply(user_input, n):\n",
    "    if(user_input) == \"I\":\n",
    "        print(\"none\")\n",
    "    if(user_input) == \"X\":\n",
    "        circ.x(qr[n])\n",
    "    if(user_input) == \"Y\":\n",
    "        circ.y(qr[n])\n",
    "    if(user_input) == \"Z\":\n",
    "        circ.z(qr[n])\n",
    "    if(user_input) == \"H\":\n",
    "        circ.h(qr[n])"
   ]
  },
  {
   "cell_type": "code",
   "execution_count": 79,
   "metadata": {},
   "outputs": [],
   "source": [
    "master = Tk()\n",
    "user_input = Entry(master)"
   ]
  },
  {
   "cell_type": "code",
   "execution_count": 80,
   "metadata": {},
   "outputs": [
    {
     "name": "stdout",
     "output_type": "stream",
     "text": [
      "('Z', 0)\n",
      "('I', 0)\n",
      "('Z', 0)\n"
     ]
    }
   ],
   "source": [
    "def ButtonOneCallback():\n",
    "    value = user_input.get()\n",
    "    print(one)\n",
    "\n",
    "def ButtonTwoCallback():\n",
    "    value = user_input.get()\n",
    "    print(two)\n",
    "    \n",
    "button1 = Button(master, text= one, command=ButtonOneCallback)\n",
    "button1.pack()\n",
    "button2 = Button(master, text= two, command=ButtonTwoCallback)\n",
    "button2.pack()\n",
    "mainloop()"
   ]
  },
  {
   "cell_type": "code",
   "execution_count": 71,
   "metadata": {},
   "outputs": [
    {
     "data": {
      "text/plain": [
       "'Z'"
      ]
     },
     "execution_count": 71,
     "metadata": {},
     "output_type": "execute_result"
    }
   ],
   "source": []
  },
  {
   "cell_type": "code",
   "execution_count": 45,
   "metadata": {},
   "outputs": [],
   "source": []
  },
  {
   "cell_type": "code",
   "execution_count": null,
   "metadata": {},
   "outputs": [],
   "source": []
  },
  {
   "cell_type": "markdown",
   "metadata": {},
   "source": []
  },
  {
   "cell_type": "code",
   "execution_count": null,
   "metadata": {},
   "outputs": [],
   "source": []
  },
  {
   "cell_type": "code",
   "execution_count": null,
   "metadata": {},
   "outputs": [],
   "source": []
  }
 ],
 "metadata": {
  "kernelspec": {
   "display_name": "Python 3",
   "language": "python",
   "name": "python3"
  },
  "language_info": {
   "codemirror_mode": {
    "name": "ipython",
    "version": 3
   },
   "file_extension": ".py",
   "mimetype": "text/x-python",
   "name": "python",
   "nbconvert_exporter": "python",
   "pygments_lexer": "ipython3",
   "version": "3.6.5"
  }
 },
 "nbformat": 4,
 "nbformat_minor": 2
}
