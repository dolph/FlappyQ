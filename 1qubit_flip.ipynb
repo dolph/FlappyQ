{
 "cells": [
  {
   "cell_type": "code",
   "execution_count": null,
   "metadata": {},
   "outputs": [],
   "source": [
    "from qiskit import QuantumRegister, ClassicalRegister, QuantumCircuit\n",
    "import numpy as np\n",
    "from qiskit import execute\n",
    "from random import *\n",
    "from qiskit import BasicAer\n",
    "\n",
    "def count_calc(circuit):\n",
    "    backend_sim = BasicAer.get_backend('qasm_simulator')\n",
    "    job_sim = execute(circuit, backend_sim, shots=100)\n",
    "    result_sim = job_sim.result()\n",
    "    counts = result_sim.get_counts(circuit)\n",
    "\n",
    "    return counts\n",
    "\n",
    "def count_calc2(circuit):\n",
    "    backend_sim = BasicAer.get_backend('qasm_simulator')\n",
    "    job_sim = execute(circuit, backend_sim, shots=100)\n",
    "    result_sim = job_sim.result()\n",
    "    counts = result_sim.get_counts(circuit)\n",
    "    return counts\n",
    "\n",
    "\n",
    "\n",
    "possible_desired=['0','1']\n",
    "selection=randint(0,1)\n",
    "print('Intended final state = ',possible_desired[selection])\n",
    "prob0=[]\n",
    "prob10=[]\n",
    "if selection==0:\n",
    "    prob0.append(1)\n",
    "    prob0.append(0)\n",
    "else:\n",
    "    prob0.append(0)\n",
    "    prob0.append(1)\n",
    "\n",
    "\n",
    "gates_choices=['iden','x','y','z']\n",
    "qr=QuantumRegister(1)\n",
    "cr=ClassicalRegister(1)\n",
    "circ=QuantumCircuit(qr,cr)\n",
    "random_gate1=gates_choices[randint(0,3)]\n",
    "random_gate2=gates_choices[randint(0,3)]\n",
    "print(\"Select a gate from\",random_gate1, \"and\",random_gate2)\n",
    "gate_selection=input()\n",
    "eval(\"circ.\"+gate_selection+\"(qr[0])\")\n",
    "circ.measure(qr, cr)\n",
    "circ.draw(output='mpl')\n",
    "\n",
    "count1=count_calc(circ)\n",
    "try:\n",
    "    count1[\"0\"]\n",
    "    prob0.append(1)\n",
    "    prob0.append(0)\n",
    "except:\n",
    "    count1[\"1\"]\n",
    "    prob0.append(0)\n",
    "    prob0.append(1)\n",
    "\n",
    "\n"
   ]
  },
  {
   "cell_type": "code",
   "execution_count": 23,
   "metadata": {},
   "outputs": [
    {
     "data": {
      "text/plain": [
       "100"
      ]
     },
     "execution_count": 23,
     "metadata": {},
     "output_type": "execute_result"
    }
   ],
   "source": [
    "count1[\"1\"]\n"
   ]
  },
  {
   "cell_type": "code",
   "execution_count": null,
   "metadata": {},
   "outputs": [],
   "source": []
  }
 ],
 "metadata": {
  "kernelspec": {
   "display_name": "Python 3",
   "language": "python",
   "name": "python3"
  },
  "language_info": {
   "codemirror_mode": {
    "name": "ipython",
    "version": 3
   },
   "file_extension": ".py",
   "mimetype": "text/x-python",
   "name": "python",
   "nbconvert_exporter": "python",
   "pygments_lexer": "ipython3",
   "version": "3.7.1"
  }
 },
 "nbformat": 4,
 "nbformat_minor": 2
}
