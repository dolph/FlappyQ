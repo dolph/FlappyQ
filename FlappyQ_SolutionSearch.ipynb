{
 "cells": [
  {
   "cell_type": "code",
   "execution_count": 7,
   "metadata": {},
   "outputs": [],
   "source": [
    "#Binary tree class for searching possible solutions\n",
    "import numpy as np\n",
    "from qiskit import QuantumCircuit, ClassicalRegister, QuantumRegister, execute\n",
    "from random import *"
   ]
  },
  {
   "cell_type": "code",
   "execution_count": 8,
   "metadata": {},
   "outputs": [],
   "source": [
    "#Gate Tree class for searching all possible paths\n",
    "class GateTree():\n",
    "    \n",
    "    def __init__(self, gate):\n",
    "        self.gate = gate\n",
    "        self.left = None\n",
    "        self.right = None\n",
    "    \n",
    "    def getLeft(self):\n",
    "        return self.left\n",
    "    def getRight(self):\n",
    "        return self.right\n",
    "    def setGate(self, gate):\n",
    "        self.gate = gate\n",
    "    def getGate(self):\n",
    "        return self.gate\n",
    "    \n",
    "    def insertRight(self, newGate):\n",
    "        if self.right == None:\n",
    "            self.right = GateTree(newGate)\n",
    "        \n",
    "        else:\n",
    "            tree = GateTree(newGate)\n",
    "            tree.right = self.right\n",
    "            self.right = tree\n",
    "    \n",
    "    def insertLeft(self, newGate):\n",
    "        if self.left == None:\n",
    "            self.left = GateTree(newGate)\n",
    "        \n",
    "        else:\n",
    "            tree = GateTree(newGate)\n",
    "            self.left = tree\n",
    "            tree.left = self.left\n",
    "    "
   ]
  },
  {
   "cell_type": "code",
   "execution_count": 9,
   "metadata": {},
   "outputs": [
    {
     "name": "stdout",
     "output_type": "stream",
     "text": [
      "Intended final state = 1\n",
      "Select a gate from x and h\n",
      "h\n"
     ]
    }
   ],
   "source": [
    "#Building GateTree from sequence of randomly selected gates\n",
    "q=QuantumRegister(1)\n",
    "circ=QuantumCircuit(q)\n",
    "print('Intended final state = 1')\n",
    "gates_choices=['h','x','y','z']\n",
    "\n",
    "gateTree = GateTree(\"init\")\n",
    "\n",
    "random_gate1=gates_choices[randint(0,3)]\n",
    "random_gate2=gates_choices[randint(0,3)]\n",
    "\n",
    "gateTree.insertLeft(random_gate1)\n",
    "gateTree.insertRight(random_gate2)\n",
    "print(\"Select a gate from\",random_gate1, \"and\",random_gate2)\n",
    "gate_selection=input()"
   ]
  },
  {
   "cell_type": "code",
   "execution_count": null,
   "metadata": {},
   "outputs": [],
   "source": []
  }
 ],
 "metadata": {
  "kernelspec": {
   "display_name": "Python 3",
   "language": "python",
   "name": "python3"
  },
  "language_info": {
   "codemirror_mode": {
    "name": "ipython",
    "version": 3
   },
   "file_extension": ".py",
   "mimetype": "text/x-python",
   "name": "python",
   "nbconvert_exporter": "python",
   "pygments_lexer": "ipython3",
   "version": "3.6.4"
  }
 },
 "nbformat": 4,
 "nbformat_minor": 2
}
